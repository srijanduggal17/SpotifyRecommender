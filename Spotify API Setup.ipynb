{
 "cells": [
  {
   "cell_type": "markdown",
   "metadata": {},
   "source": [
    "Get Authorization Token"
   ]
  },
  {
   "cell_type": "code",
   "execution_count": 1,
   "metadata": {},
   "outputs": [],
   "source": [
    "import sys\n",
    "import spotipy\n",
    "import spotipy.util as util\n",
    "import requests\n",
    "import json\n",
    "import pandas as pd\n",
    "import numpy as np\n",
    "\n",
    "scope = 'user-library-read'\n",
    "username = 'srijanduggal17'\n",
    "client_id = ''\n",
    "client_secret = ''\n",
    "redirect_uri = 'http://localhost/'\n",
    "\n",
    "token = util.prompt_for_user_token(username,scope,client_id=client_id,client_secret=client_secret,redirect_uri=redirect_uri)\n",
    "\n",
    "if token:\n",
    "    sp = spotipy.Spotify(auth=token)\n",
    "else:\n",
    "    print(\"Can't get token for\", username)"
   ]
  },
  {
   "cell_type": "markdown",
   "metadata": {},
   "source": [
    "Get uris, albums, for all saved tracks.\n",
    "\n",
    "Data Format:\n",
    "In my library, for every album of each song, get every song\n",
    "Label: whether i saved that song or not\n",
    "\n",
    "List of my songs -> go through all of my spotify tracks and get the song uris\n",
    "<br>List of albums to look through: -> go through all of my spotify tracks and get the album uris\n",
    "<br>List of all song uris for dataset: -> go through list of albums and get all track uris\n",
    "<br>Label song uris -> go through list of all song uris. Find the ones that are in list of my songs and label them with 1. Label the others as 0.\n",
    "<br>Replace uris with audio features."
   ]
  },
  {
   "cell_type": "markdown",
   "metadata": {},
   "source": [
    "# Get all of my Song and Album uris"
   ]
  },
  {
   "cell_type": "markdown",
   "metadata": {},
   "source": [
    "Get total number of songs in my library"
   ]
  },
  {
   "cell_type": "code",
   "execution_count": 2,
   "metadata": {},
   "outputs": [
    {
     "name": "stdout",
     "output_type": "stream",
     "text": [
      "Total Tracks 2118\n"
     ]
    }
   ],
   "source": [
    "nextOffset = 0\n",
    "nextLimit = 50\n",
    "\n",
    "results = sp.current_user_saved_tracks(limit=nextLimit, offset=nextOffset)\n",
    "print('Total Tracks {}'.format(results['total']))"
   ]
  },
  {
   "cell_type": "markdown",
   "metadata": {},
   "source": [
    "Get song and album ids for all songs in my library"
   ]
  },
  {
   "cell_type": "code",
   "execution_count": 3,
   "metadata": {},
   "outputs": [],
   "source": [
    "mySongIds = set()\n",
    "myAlbumIds = set()\n",
    "for item in results['items']:\n",
    "    mySongIds.add(item['track']['id'])\n",
    "    myAlbumIds.add(item['track']['album']['id'])\n",
    "nextOffset += nextLimit\n",
    "\n",
    "while (results['next'] != None): \n",
    "    results = sp.current_user_saved_tracks(limit=nextLimit, offset=nextOffset)\n",
    "    for item in results['items']:\n",
    "        mySongIds.add(item['track']['id'])\n",
    "        myAlbumIds.add(item['track']['album']['id'])\n",
    "    nextOffset += nextLimit"
   ]
  },
  {
   "cell_type": "code",
   "execution_count": 4,
   "metadata": {},
   "outputs": [
    {
     "name": "stdout",
     "output_type": "stream",
     "text": [
      "Total Song Ids 2118\n",
      "Total Album Ids 842\n"
     ]
    }
   ],
   "source": [
    "print('Total Song Ids {}'.format(len(mySongIds)))    \n",
    "# print(mySongIds)\n",
    "print('Total Album Ids {}'.format(len(myAlbumIds)))"
   ]
  },
  {
   "cell_type": "markdown",
   "metadata": {},
   "source": [
    "# Get uris of all Songs from my Albums"
   ]
  },
  {
   "cell_type": "code",
   "execution_count": 24,
   "metadata": {},
   "outputs": [
    {
     "name": "stdout",
     "output_type": "stream",
     "text": [
      "0QfX3caqG3gvfY1Kal2tlQ\n",
      "0QfX3caqG3gvfY1Kal2tlQ\n",
      "22KCcelRH1AeHz7S7x5XhY\n",
      "22KCcelRH1AeHz7S7x5XhY\n",
      "5L1ZI7MN9XITXEvyOl1haT\n",
      "6UixeNUSjrBnxeYV0ZuGHR\n",
      "3D4FYzqPi2LqJWyfsY1ZdI\n"
     ]
    }
   ],
   "source": [
    "albumSongIds = set()\n",
    "\n",
    "for albumId in list(myAlbumIds):\n",
    "    nextLimit = 50\n",
    "    nextOffset = 0\n",
    "    albumInfo = sp.album_tracks(albumId, limit=nextLimit)\n",
    "    for item in albumInfo['items']:\n",
    "        albumSongIds.add(item['id'])\n",
    "    nextOffset += nextLimit\n",
    "\n",
    "    while (albumInfo['next'] != None): \n",
    "        print(albumId)\n",
    "        albumInfo = sp.album_tracks(albumId, limit=nextLimit, offset=nextOffset)\n",
    "        for item in albumInfo['items']:\n",
    "            albumSongIds.add(item['id'])\n",
    "        nextOffset += nextLimit"
   ]
  },
  {
   "cell_type": "code",
   "execution_count": 31,
   "metadata": {},
   "outputs": [
    {
     "name": "stdout",
     "output_type": "stream",
     "text": [
      "8254\n",
      "2118\n",
      "6136\n"
     ]
    }
   ],
   "source": [
    "print(len(albumSongIds))\n",
    "print(len(mySongIds))\n",
    "unsavedSongIds = albumSongIds.difference(mySongIds)\n",
    "print(len(unsavedSongIds))"
   ]
  },
  {
   "cell_type": "code",
   "execution_count": 36,
   "metadata": {},
   "outputs": [
    {
     "name": "stdout",
     "output_type": "stream",
     "text": [
      "                 song_uri  label\n",
      "0  1UH4viviUjZnS9aWgPGrk0  saved\n",
      "1  2IO7yf562c1zLzpanal1DT  saved\n",
      "2  1kWVgfctc2JUKCqlsZGWbU  saved\n",
      "3  7wJphnipgpptcsRk6Aur3w  saved\n",
      "4  19ek2TMXTpXhjn7xkdNAAJ  saved\n",
      "                 song_uri    label\n",
      "0  0MRZ9nMoLc7qQ8Nhovv8C8  unsaved\n",
      "1  6ZYbPmxFMKDbeUxZlqU0G6  unsaved\n",
      "2  0XiHcuUEf1wmvmX1cOaVR9  unsaved\n",
      "3  2tqPFzcsaYx479OFbNOo3P  unsaved\n",
      "4  0O29lIj6AZCrjCKyZjhdCE  unsaved\n"
     ]
    }
   ],
   "source": [
    "df_saved = pd.DataFrame()\n",
    "df_saved['song_uri'] = list(mySongIds)\n",
    "df_saved['label'] = 'saved'\n",
    "print(df_saved.head())\n",
    "\n",
    "df_unsaved = pd.DataFrame()\n",
    "df_unsaved['song_uri'] = list(unsavedSongIds)\n",
    "df_unsaved['label'] = 'unsaved'\n",
    "print(df_unsaved.head())"
   ]
  },
  {
   "cell_type": "code",
   "execution_count": 35,
   "metadata": {},
   "outputs": [
    {
     "name": "stdout",
     "output_type": "stream",
     "text": [
      "                    song_uri    label\n",
      "0     1UH4viviUjZnS9aWgPGrk0    saved\n",
      "1     2IO7yf562c1zLzpanal1DT    saved\n",
      "2     1kWVgfctc2JUKCqlsZGWbU    saved\n",
      "3     7wJphnipgpptcsRk6Aur3w    saved\n",
      "4     19ek2TMXTpXhjn7xkdNAAJ    saved\n",
      "...                      ...      ...\n",
      "6131  11Rv97V4xZDoq0kB8h551n  unsaved\n",
      "6132  6TVs7Lap6ZcrpZk1xfOgtv  unsaved\n",
      "6133  25vLYJnTmmraoXoynldUYU  unsaved\n",
      "6134  31mqc7EKPsJf3pe6H5jEfC  unsaved\n",
      "6135  7cRw4UbtGEwGIRgYimPQM7  unsaved\n",
      "\n",
      "[8254 rows x 2 columns]\n"
     ]
    }
   ],
   "source": [
    "df = pd.concat([df_saved, df_unsaved])\n",
    "print(df)"
   ]
  }
 ],
 "metadata": {
  "kernelspec": {
   "display_name": "Python 3",
   "language": "python",
   "name": "python3"
  },
  "language_info": {
   "codemirror_mode": {
    "name": "ipython",
    "version": 3
   },
   "file_extension": ".py",
   "mimetype": "text/x-python",
   "name": "python",
   "nbconvert_exporter": "python",
   "pygments_lexer": "ipython3",
   "version": "3.7.4"
  }
 },
 "nbformat": 4,
 "nbformat_minor": 4
}
