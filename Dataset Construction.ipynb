{
 "cells": [
  {
   "cell_type": "markdown",
   "metadata": {},
   "source": [
    "# Dataset Construction"
   ]
  },
  {
   "cell_type": "markdown",
   "metadata": {},
   "source": [
    "Note: to run the code in this notebook, a Spotify API key and account will be needed"
   ]
  },
  {
   "cell_type": "markdown",
   "metadata": {},
   "source": [
    "## Process Overview"
   ]
  },
  {
   "cell_type": "markdown",
   "metadata": {},
   "source": [
    "To construct the dataset, I did the following:\n",
    "1. Obtain the songs I had listened to<br>\n",
    "    a. Get all songs I had saved (Spotify provides an endpoint to do so)<br>\n",
    "    b. Aggregated these songs by album to compute the total songs saved for each album<br>\n",
    "    c. Assumed that albums from which I have saved 2 or more songs are albums that I had fully listened to<br>\n",
    "    d. Get all the songs for those albums (Spotify provides an endpoint to do so)<br>\n",
    "2.\tFind the label for each song<br>\n",
    "    a. From the list of in 1d, label the songs in the list from 1a as saved<br>\n",
    "    d. Label the rest as unsaved<br>\n",
    "3.\tFind the features for each song (Spotify provides an endpoint to do so)"
   ]
  },
  {
   "cell_type": "markdown",
   "metadata": {},
   "source": [
    "### Imports and API Preparation"
   ]
  },
  {
   "cell_type": "code",
   "execution_count": 1,
   "metadata": {},
   "outputs": [],
   "source": [
    "import sys\n",
    "import spotipy\n",
    "import spotipy.util as util\n",
    "import requests\n",
    "import json\n",
    "import pandas as pd\n",
    "import numpy as np\n",
    "\n",
    "# Declare API access keys and request information\n",
    "# Note: to run the code in this notebook, \n",
    "scope = 'user-library-read'\n",
    "username = ''\n",
    "client_id = ''\n",
    "client_secret = ''\n",
    "redirect_uri = 'http://localhost/'\n",
    "\n",
    "token = util.prompt_for_user_token(username,scope,client_id=client_id,client_secret=client_secret,redirect_uri=redirect_uri)\n",
    "\n",
    "if token:\n",
    "    sp = spotipy.Spotify(auth=token)\n",
    "else:\n",
    "    print(\"Can't get token for\", username)"
   ]
  },
  {
   "cell_type": "markdown",
   "metadata": {},
   "source": [
    "### Obtain Songs I have Listened To"
   ]
  },
  {
   "cell_type": "markdown",
   "metadata": {},
   "source": [
    "Get total number of songs in my library"
   ]
  },
  {
   "cell_type": "code",
   "execution_count": 2,
   "metadata": {},
   "outputs": [
    {
     "name": "stdout",
     "output_type": "stream",
     "text": [
      "Total Tracks: 2157\n"
     ]
    }
   ],
   "source": [
    "nextOffset = 0\n",
    "nextLimit = 50\n",
    "\n",
    "results = sp.current_user_saved_tracks(limit=nextLimit, offset=nextOffset)\n",
    "print('Total Tracks: {}'.format(results['total']))"
   ]
  },
  {
   "cell_type": "markdown",
   "metadata": {},
   "source": [
    "Get song and album ids for all songs in my library"
   ]
  },
  {
   "cell_type": "code",
   "execution_count": 3,
   "metadata": {},
   "outputs": [],
   "source": [
    "# Create DataFrame to store results\n",
    "df_my_songs = pd.DataFrame(columns=['song_uri', 'album_uri'])\n",
    "\n",
    "# Add results of initial request to DataFrame\n",
    "for item in results['items']:\n",
    "    df_my_songs = df_my_songs.append({\n",
    "        'song_uri': item['track']['id'],\n",
    "        'album_uri': item['track']['album']['id']\n",
    "    }, ignore_index=True)\n",
    "nextOffset += nextLimit\n",
    "\n",
    "# Continue requesting song and album ids for all songs\n",
    "while (results['next'] != None): \n",
    "    results = sp.current_user_saved_tracks(limit=nextLimit, offset=nextOffset)\n",
    "    for item in results['items']:\n",
    "        df_my_songs = df_my_songs.append({\n",
    "            'song_uri': item['track']['id'],\n",
    "            'album_uri': item['track']['album']['id']\n",
    "        }, ignore_index=True)\n",
    "    nextOffset += nextLimit"
   ]
  },
  {
   "cell_type": "markdown",
   "metadata": {},
   "source": [
    "Aggregate songs by albums"
   ]
  },
  {
   "cell_type": "code",
   "execution_count": 4,
   "metadata": {},
   "outputs": [],
   "source": [
    "df_songs_per_album = df_my_songs.groupby('album_uri').count()"
   ]
  },
  {
   "cell_type": "markdown",
   "metadata": {},
   "source": [
    "Find albums I have listened to"
   ]
  },
  {
   "cell_type": "code",
   "execution_count": 5,
   "metadata": {},
   "outputs": [
    {
     "name": "stdout",
     "output_type": "stream",
     "text": [
      "Albums I have listened to: 259\n"
     ]
    }
   ],
   "source": [
    "df_albums_heard = df_songs_per_album[df_songs_per_album.song_uri > 1]\n",
    "albums_heard = df_albums_heard.index.values\n",
    "print('Albums I have listened to:', df_albums_heard.shape[0])"
   ]
  },
  {
   "cell_type": "markdown",
   "metadata": {},
   "source": [
    "Get all songs from albums I have listened to"
   ]
  },
  {
   "cell_type": "code",
   "execution_count": 6,
   "metadata": {},
   "outputs": [
    {
     "name": "stderr",
     "output_type": "stream",
     "text": [
      "100% |########################################################################|\n"
     ]
    }
   ],
   "source": [
    "albumSongIds = set()\n",
    "\n",
    "counter = 0;\n",
    "from progressbar import ProgressBar\n",
    "pbar = ProgressBar()\n",
    "for albumId in pbar(albums_heard):\n",
    "    nextLimit = 50\n",
    "    nextOffset = 0\n",
    "    albumInfo = sp.album_tracks(albumId, limit=nextLimit)\n",
    "    \n",
    "    # Add first set of tracks of album\n",
    "    for item in albumInfo['items']:\n",
    "        albumSongIds.add(item['id'])\n",
    "    nextOffset += nextLimit\n",
    "    \n",
    "    # Add the rest of the album's tracks\n",
    "    while (albumInfo['next'] != None): \n",
    "        albumInfo = sp.album_tracks(albumId, limit=nextLimit, offset=nextOffset)\n",
    "        for item in albumInfo['items']:\n",
    "            albumSongIds.add(item['id'])\n",
    "        nextOffset += nextLimit\n",
    "    counter += 1"
   ]
  },
  {
   "cell_type": "markdown",
   "metadata": {},
   "source": [
    "### Find the label for each song"
   ]
  },
  {
   "cell_type": "code",
   "execution_count": 7,
   "metadata": {},
   "outputs": [
    {
     "name": "stdout",
     "output_type": "stream",
     "text": [
      "Songs I have listened to: 3797\n",
      "Songs I have listened to and saved: 1541\n",
      "Songs I have listened to and not saved: 2256\n"
     ]
    }
   ],
   "source": [
    "df_saved_ids = df_my_songs[df_my_songs.album_uri.isin(albums_heard)]\n",
    "savedSongIds = set(df_saved_ids.song_uri)\n",
    "unsavedSongIds = albumSongIds.difference(savedSongIds)\n",
    "\n",
    "print('Songs I have listened to: {}'.format(len(albumSongIds)))\n",
    "print('Songs I have listened to and saved: {}'.format(len(savedSongIds)))\n",
    "print('Songs I have listened to and not saved: {}'.format(len(unsavedSongIds)))"
   ]
  },
  {
   "cell_type": "markdown",
   "metadata": {},
   "source": [
    "### Get Audio Features for All Songs"
   ]
  },
  {
   "cell_type": "markdown",
   "metadata": {},
   "source": [
    "For Saved songs:"
   ]
  },
  {
   "cell_type": "code",
   "execution_count": 8,
   "metadata": {},
   "outputs": [],
   "source": [
    "savedSongIds = list(savedSongIds)\n",
    "\n",
    "# Create DataFrame to store features for saved songs\n",
    "exampleObj = sp.audio_features(savedSongIds[0])\n",
    "df_saved_songs = pd.DataFrame(exampleObj)\n",
    "\n",
    "startNdx = 1\n",
    "endNdx = 51\n",
    "nextList = savedSongIds[startNdx:endNdx]\n",
    "\n",
    "# Get features for each song\n",
    "while (endNdx < len(savedSongIds)):\n",
    "    audio_features = sp.audio_features(nextList)\n",
    "    df_saved_songs = df_saved_songs.append(audio_features, ignore_index=True)\n",
    "    startNdx = endNdx\n",
    "    endNdx += 50\n",
    "    nextList = savedSongIds[startNdx:endNdx]\n",
    "\n",
    "nextList = savedSongIds[startNdx:]\n",
    "audio_features = sp.audio_features(nextList)\n",
    "df_saved_songs = df_saved_songs.append(audio_features, ignore_index=True)\n",
    "df_saved_songs['label'] = 'saved'"
   ]
  },
  {
   "cell_type": "markdown",
   "metadata": {},
   "source": [
    "For Unsaved songs:"
   ]
  },
  {
   "cell_type": "code",
   "execution_count": 9,
   "metadata": {},
   "outputs": [],
   "source": [
    "unsavedSongIds = list(unsavedSongIds)\n",
    "\n",
    "# Create DataFrame to store features for saved songs\n",
    "exampleObj = sp.audio_features(unsavedSongIds[0])\n",
    "df_unsaved_songs = pd.DataFrame(exampleObj)\n",
    "\n",
    "startNdx = 1\n",
    "endNdx = 51\n",
    "nextList = unsavedSongIds[startNdx:endNdx]\n",
    "\n",
    "# Get features for each song\n",
    "while (endNdx < len(unsavedSongIds)):\n",
    "    audio_features = sp.audio_features(nextList)\n",
    "    df_unsaved_songs = df_unsaved_songs.append(audio_features, ignore_index=True)\n",
    "    startNdx = endNdx\n",
    "    endNdx += 50\n",
    "    nextList = unsavedSongIds[startNdx:endNdx]\n",
    "\n",
    "nextList = unsavedSongIds[startNdx:]\n",
    "audio_features = sp.audio_features(nextList)\n",
    "df_unsaved_songs = df_unsaved_songs.append(audio_features, ignore_index=True)\n",
    "df_unsaved_songs['label'] = 'unsaved'"
   ]
  },
  {
   "cell_type": "markdown",
   "metadata": {},
   "source": [
    "## Combine into Dataset"
   ]
  },
  {
   "cell_type": "code",
   "execution_count": 10,
   "metadata": {},
   "outputs": [
    {
     "name": "stdout",
     "output_type": "stream",
     "text": [
      "Shape of Dataset (3797, 14)\n",
      "   danceability  energy  key  loudness  speechiness  acousticness  \\\n",
      "0         0.823   0.467    0   -10.394        0.301         0.543   \n",
      "1         0.445   0.378    0    -8.043        0.031         0.318   \n",
      "2         0.810   0.451   10    -6.348        0.249         0.152   \n",
      "3         0.637   0.569    6    -5.858        0.550         0.173   \n",
      "4         0.747   0.492   11    -8.399        0.110         0.271   \n",
      "\n",
      "   instrumentalness  liveness  valence    tempo  time_signature  label  \\\n",
      "0          0.000000     0.135   0.6180   95.024               4  saved   \n",
      "1          0.041600     0.142   0.0729   71.835               4  saved   \n",
      "2          0.053700     0.108   0.3590   85.417               4  saved   \n",
      "3          0.000000     0.180   0.1480  140.269               4  saved   \n",
      "4          0.000011     0.263   0.1890  124.870               4  saved   \n",
      "\n",
      "   mode_major  mode_minor  \n",
      "0           0           1  \n",
      "1           1           0  \n",
      "2           0           1  \n",
      "3           1           0  \n",
      "4           0           1  \n"
     ]
    }
   ],
   "source": [
    "df = pd.concat([df_saved_songs, df_unsaved_songs])\n",
    "\n",
    "# Encode Mode variable\n",
    "df['mode_major'] = df['mode']\n",
    "df['mode_minor'] = 1 - df['mode']\n",
    "\n",
    "# Drop unnecessary columns\n",
    "df = df.drop(columns=['type', 'uri', 'track_href', 'analysis_url', 'duration_ms', 'mode', 'id'])\n",
    "\n",
    "print('Shape of Dataset {}'.format(df.shape))\n",
    "print(df.head())"
   ]
  },
  {
   "cell_type": "markdown",
   "metadata": {},
   "source": [
    "Export Data"
   ]
  },
  {
   "cell_type": "code",
   "execution_count": 11,
   "metadata": {},
   "outputs": [],
   "source": [
    "df.to_csv('dataset.csv', index=False)"
   ]
  }
 ],
 "metadata": {
  "kernelspec": {
   "display_name": "Python 3",
   "language": "python",
   "name": "python3"
  },
  "language_info": {
   "codemirror_mode": {
    "name": "ipython",
    "version": 3
   },
   "file_extension": ".py",
   "mimetype": "text/x-python",
   "name": "python",
   "nbconvert_exporter": "python",
   "pygments_lexer": "ipython3",
   "version": "3.7.4"
  }
 },
 "nbformat": 4,
 "nbformat_minor": 4
}
