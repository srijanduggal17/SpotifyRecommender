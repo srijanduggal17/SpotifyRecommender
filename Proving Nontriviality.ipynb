{
 "cells": [
  {
   "cell_type": "code",
   "execution_count": 1,
   "metadata": {},
   "outputs": [],
   "source": [
    "import pandas as pd\n",
    "from sklearn.model_selection import train_test_split\n",
    "import numpy as np"
   ]
  },
  {
   "cell_type": "code",
   "execution_count": 2,
   "metadata": {},
   "outputs": [],
   "source": [
    "raw_data = pd.read_csv('new_dataset.csv')"
   ]
  },
  {
   "cell_type": "code",
   "execution_count": 3,
   "metadata": {},
   "outputs": [
    {
     "name": "stdout",
     "output_type": "stream",
     "text": [
      "   danceability  energy  key  loudness  mode  speechiness  acousticness  \\\n",
      "0         0.695   0.807    9    -5.123     1       0.0346        0.0121   \n",
      "1         0.510   0.533    7    -6.194     1       0.3590        0.1940   \n",
      "2         0.764   0.475    0   -12.618     1       0.1140        0.3450   \n",
      "3         0.615   0.800    7    -7.423     1       0.0571        0.0684   \n",
      "4         0.656   0.804    8    -5.191     0       0.3630        0.1730   \n",
      "\n",
      "   instrumentalness  liveness  valence    tempo                      id  \\\n",
      "0               0.0     0.266    0.400   91.947  4V8uu21mnpyg7BElNNJdPs   \n",
      "1               0.0     0.117    0.262   88.154  7fheaybAcABeiuYU6VgDrQ   \n",
      "2               0.0     0.140    0.340  129.974  0l4EfZzVD0LyJhibHIIVxo   \n",
      "3               0.0     0.106    0.309  134.052  6EAE96fgYkea6qZ3pXigNG   \n",
      "4               0.0     0.837    0.314  125.882  2WWruw7ul9N7eqoHELyMc2   \n",
      "\n",
      "   time_signature  label  \n",
      "0               4  saved  \n",
      "1               4  saved  \n",
      "2               4  saved  \n",
      "3               4  saved  \n",
      "4               4  saved  \n",
      "Index(['danceability', 'energy', 'key', 'loudness', 'mode', 'speechiness',\n",
      "       'acousticness', 'instrumentalness', 'liveness', 'valence', 'tempo',\n",
      "       'id', 'time_signature', 'label'],\n",
      "      dtype='object')\n"
     ]
    }
   ],
   "source": [
    "original_data = raw_data\n",
    "# raw_data = raw_data.drop(['key'], axis=1)\n",
    "print(raw_data.head())\n",
    "print(raw_data.columns)"
   ]
  },
  {
   "cell_type": "code",
   "execution_count": 4,
   "metadata": {},
   "outputs": [
    {
     "name": "stdout",
     "output_type": "stream",
     "text": [
      "(3797, 14)\n"
     ]
    }
   ],
   "source": [
    "print(raw_data.shape)"
   ]
  },
  {
   "cell_type": "code",
   "execution_count": 5,
   "metadata": {},
   "outputs": [
    {
     "name": "stdout",
     "output_type": "stream",
     "text": [
      "   danceability  energy  key  loudness  mode  speechiness  acousticness  \\\n",
      "0         0.695   0.807    9    -5.123     1       0.0346        0.0121   \n",
      "1         0.510   0.533    7    -6.194     1       0.3590        0.1940   \n",
      "2         0.764   0.475    0   -12.618     1       0.1140        0.3450   \n",
      "3         0.615   0.800    7    -7.423     1       0.0571        0.0684   \n",
      "4         0.656   0.804    8    -5.191     0       0.3630        0.1730   \n",
      "\n",
      "   instrumentalness  liveness  valence    tempo  time_signature  \n",
      "0               0.0     0.266    0.400   91.947               4  \n",
      "1               0.0     0.117    0.262   88.154               4  \n",
      "2               0.0     0.140    0.340  129.974               4  \n",
      "3               0.0     0.106    0.309  134.052               4  \n",
      "4               0.0     0.837    0.314  125.882               4  \n",
      "0    saved\n",
      "1    saved\n",
      "2    saved\n",
      "3    saved\n",
      "4    saved\n",
      "Name: label, dtype: object\n"
     ]
    }
   ],
   "source": [
    "x = raw_data.drop(['id','label'], axis=1)\n",
    "y = raw_data.label\n",
    "print(x.head())\n",
    "print(y.head())\n",
    "X_train, X_test, Y_train, Y_test = train_test_split(x, y, test_size = 0.2)"
   ]
  },
  {
   "cell_type": "code",
   "execution_count": 6,
   "metadata": {},
   "outputs": [
    {
     "name": "stdout",
     "output_type": "stream",
     "text": [
      "(3037, 12)\n",
      "(760, 12)\n",
      "(3037,)\n",
      "(760,)\n"
     ]
    }
   ],
   "source": [
    "print(X_train.shape)\n",
    "print(X_test.shape)\n",
    "print(Y_train.shape)\n",
    "print(Y_test.shape)"
   ]
  },
  {
   "cell_type": "code",
   "execution_count": 7,
   "metadata": {},
   "outputs": [
    {
     "name": "stdout",
     "output_type": "stream",
     "text": [
      "0.6052631578947368\n",
      "(760,)\n",
      "(760,)\n",
      "0.34408602150537637\n"
     ]
    },
    {
     "name": "stderr",
     "output_type": "stream",
     "text": [
      "C:\\Users\\srija\\Miniconda3\\envs\\spotify\\lib\\site-packages\\sklearn\\linear_model\\logistic.py:433: FutureWarning: Default solver will be changed to 'lbfgs' in 0.22. Specify a solver to silence this warning.\n",
      "  FutureWarning)\n"
     ]
    }
   ],
   "source": [
    "from sklearn.linear_model import LogisticRegression\n",
    "X_train, X_test, Y_train, Y_test = train_test_split(x, y, test_size = 0.2)\n",
    "logreg = LogisticRegression(penalty='l2')\n",
    "logreg.fit(X_train, Y_train)\n",
    "prediction = logreg.predict(X_test)\n",
    "score = logreg.score(X_test, Y_test)\n",
    "print(score)\n",
    "print(Y_test.values.shape)\n",
    "print(prediction.shape)\n",
    "from sklearn.metrics import precision_score\n",
    "prec = precision_score(Y_test.values, prediction, pos_label='saved')\n",
    "print(prec)"
   ]
  },
  {
   "cell_type": "code",
   "execution_count": 8,
   "metadata": {},
   "outputs": [
    {
     "name": "stdout",
     "output_type": "stream",
     "text": [
      "[ 0  1  2  3  4  5  6  7  8  9 10 11]\n"
     ]
    }
   ],
   "source": [
    "print(np.unique(original_data.key.values))"
   ]
  },
  {
   "cell_type": "code",
   "execution_count": 9,
   "metadata": {},
   "outputs": [],
   "source": [
    "stuff = original_data.tempo.values"
   ]
  },
  {
   "cell_type": "code",
   "execution_count": 10,
   "metadata": {},
   "outputs": [],
   "source": [
    "import matplotlib.pyplot as plt\n",
    "plt.hist(stuff, bins=70)\n",
    "plt.gca().set(title='Frequency Histogram', ylabel='Frequency');"
   ]
  },
  {
   "cell_type": "code",
   "execution_count": 11,
   "metadata": {},
   "outputs": [],
   "source": [
    "plt.show()"
   ]
  },
  {
   "cell_type": "code",
   "execution_count": 12,
   "metadata": {},
   "outputs": [
    {
     "name": "stdout",
     "output_type": "stream",
     "text": [
      "   danceability  energy  key  loudness  mode  speechiness  acousticness  \\\n",
      "0         0.695   0.807    9    -5.123     1       0.0346        0.0121   \n",
      "1         0.510   0.533    7    -6.194     1       0.3590        0.1940   \n",
      "2         0.764   0.475    0   -12.618     1       0.1140        0.3450   \n",
      "3         0.615   0.800    7    -7.423     1       0.0571        0.0684   \n",
      "4         0.656   0.804    8    -5.191     0       0.3630        0.1730   \n",
      "\n",
      "   instrumentalness  liveness  valence    tempo                      id  \\\n",
      "0               0.0     0.266    0.400   91.947  4V8uu21mnpyg7BElNNJdPs   \n",
      "1               0.0     0.117    0.262   88.154  7fheaybAcABeiuYU6VgDrQ   \n",
      "2               0.0     0.140    0.340  129.974  0l4EfZzVD0LyJhibHIIVxo   \n",
      "3               0.0     0.106    0.309  134.052  6EAE96fgYkea6qZ3pXigNG   \n",
      "4               0.0     0.837    0.314  125.882  2WWruw7ul9N7eqoHELyMc2   \n",
      "\n",
      "   time_signature  label  \n",
      "0               4  saved  \n",
      "1               4  saved  \n",
      "2               4  saved  \n",
      "3               4  saved  \n",
      "4               4  saved  \n"
     ]
    }
   ],
   "source": [
    "print(original_data.head())"
   ]
  },
  {
   "cell_type": "code",
   "execution_count": 13,
   "metadata": {},
   "outputs": [
    {
     "name": "stdout",
     "output_type": "stream",
     "text": [
      "[0 1 3 4 5]\n"
     ]
    }
   ],
   "source": [
    "print(np.unique(original_data.time_signature.values))"
   ]
  },
  {
   "cell_type": "code",
   "execution_count": null,
   "metadata": {},
   "outputs": [],
   "source": []
  }
 ],
 "metadata": {
  "kernelspec": {
   "display_name": "Python 3",
   "language": "python",
   "name": "python3"
  },
  "language_info": {
   "codemirror_mode": {
    "name": "ipython",
    "version": 3
   },
   "file_extension": ".py",
   "mimetype": "text/x-python",
   "name": "python",
   "nbconvert_exporter": "python",
   "pygments_lexer": "ipython3",
   "version": "3.7.4"
  }
 },
 "nbformat": 4,
 "nbformat_minor": 4
}
