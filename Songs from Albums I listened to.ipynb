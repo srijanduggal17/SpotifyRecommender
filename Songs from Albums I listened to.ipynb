{
 "cells": [
  {
   "cell_type": "markdown",
   "metadata": {},
   "source": [
    "To construct the dataset, I did the following:\n",
    "1. Obtain the songs I had listened to<br>\n",
    "    a. Get all songs I had saved (Spotify provides an endpoint to do so)<br>\n",
    "    b. Aggregated these songs by album to compute the total songs saved for each album<br>\n",
    "    c. Assumed that albums from which I have saved 2 or more songs are albums that I had fully listened to<br>\n",
    "    d. Get all the songs for those albums (Spotify provides an endpoint to do so)<br>\n",
    "2.\tFind the label for each song<br>\n",
    "    a. From the list of in 1d, label the songs in the list from 1a as saved<br>\n",
    "    d. Label the rest as unsaved<br>\n",
    "3.\tFind the features for each song (Spotify provides an endpoint to do so)"
   ]
  },
  {
   "cell_type": "markdown",
   "metadata": {},
   "source": [
    "Get Authorization Token"
   ]
  },
  {
   "cell_type": "code",
   "execution_count": 1,
   "metadata": {},
   "outputs": [],
   "source": [
    "import sys\n",
    "import spotipy\n",
    "import spotipy.util as util\n",
    "import requests\n",
    "import json\n",
    "import pandas as pd\n",
    "import numpy as np\n",
    "\n",
    "scope = 'user-library-read'\n",
    "username = 'srijanduggal17'\n",
    "client_id = ''\n",
    "client_secret = ''\n",
    "redirect_uri = 'http://localhost/'\n",
    "\n",
    "token = util.prompt_for_user_token(username,scope,client_id=client_id,client_secret=client_secret,redirect_uri=redirect_uri)\n",
    "\n",
    "if token:\n",
    "    sp = spotipy.Spotify(auth=token)\n",
    "else:\n",
    "    print(\"Can't get token for\", username)"
   ]
  },
  {
   "cell_type": "markdown",
   "metadata": {},
   "source": [
    "Get uris, albums, for all saved tracks.\n",
    "\n",
    "Data Format:\n",
    "In my library, for every album of each song, get every song\n",
    "Label: whether i saved that song or not\n",
    "\n",
    "List of my songs -> go through all of my spotify tracks and get the song uris\n",
    "<br>List of albums to look through: -> go through all of my spotify tracks and get the album uris\n",
    "<br>List of all song uris for dataset: -> go through list of albums and get all track uris\n",
    "<br>Label song uris -> go through list of all song uris. Find the ones that are in list of my songs and label them with 1. Label the others as 0.\n",
    "<br>Replace uris with audio features."
   ]
  },
  {
   "cell_type": "markdown",
   "metadata": {},
   "source": [
    "# Get all of my Song and Album uris"
   ]
  },
  {
   "cell_type": "markdown",
   "metadata": {},
   "source": [
    "Get total number of songs in my library"
   ]
  },
  {
   "cell_type": "code",
   "execution_count": 2,
   "metadata": {},
   "outputs": [
    {
     "name": "stdout",
     "output_type": "stream",
     "text": [
      "Total Tracks 2157\n"
     ]
    }
   ],
   "source": [
    "nextOffset = 0\n",
    "nextLimit = 50\n",
    "\n",
    "results = sp.current_user_saved_tracks(limit=nextLimit, offset=nextOffset)\n",
    "print('Total Tracks {}'.format(results['total']))"
   ]
  },
  {
   "cell_type": "markdown",
   "metadata": {},
   "source": [
    "Get song and album ids for all songs in my library"
   ]
  },
  {
   "cell_type": "code",
   "execution_count": 3,
   "metadata": {},
   "outputs": [],
   "source": [
    "df_my_songs = pd.DataFrame(columns=['song_uri', 'album_uri'])\n",
    "\n",
    "for item in results['items']:\n",
    "    df_my_songs = df_my_songs.append({\n",
    "        'song_uri': item['track']['id'],\n",
    "        'album_uri': item['track']['album']['id']\n",
    "    }, ignore_index=True)\n",
    "nextOffset += nextLimit\n",
    "\n",
    "while (results['next'] != None): \n",
    "    results = sp.current_user_saved_tracks(limit=nextLimit, offset=nextOffset)\n",
    "    for item in results['items']:\n",
    "        df_my_songs = df_my_songs.append({\n",
    "            'song_uri': item['track']['id'],\n",
    "            'album_uri': item['track']['album']['id']\n",
    "        }, ignore_index=True)\n",
    "    nextOffset += nextLimit"
   ]
  },
  {
   "cell_type": "code",
   "execution_count": 4,
   "metadata": {},
   "outputs": [
    {
     "name": "stdout",
     "output_type": "stream",
     "text": [
      "Total Song Ids 2157\n",
      "Total Album Ids 875\n"
     ]
    }
   ],
   "source": [
    "print('Total Song Ids {}'.format(df_my_songs.shape[0]))    \n",
    "# print(mySongIds)\n",
    "print('Total Album Ids {}'.format(len(np.unique(df_my_songs.album_uri))))"
   ]
  },
  {
   "cell_type": "markdown",
   "metadata": {},
   "source": [
    "# Get Albums I listen to"
   ]
  },
  {
   "cell_type": "markdown",
   "metadata": {},
   "source": [
    "Inspect my songs.\n",
    "<br>Albums I \"heard\" mean they have more than 1 song saved from them"
   ]
  },
  {
   "cell_type": "code",
   "execution_count": 12,
   "metadata": {},
   "outputs": [
    {
     "name": "stdout",
     "output_type": "stream",
     "text": [
      "All We Need (feat. Shy Girls)\n"
     ]
    }
   ],
   "source": [
    "print(results['items'][0]['track']['name'])"
   ]
  },
  {
   "cell_type": "code",
   "execution_count": 13,
   "metadata": {},
   "outputs": [
    {
     "name": "stdout",
     "output_type": "stream",
     "text": [
      "My total songs 2157\n",
      "My total albums 875\n",
      "My heard albums 259\n",
      "My unheard albums / songs from unheard albums 616\n",
      "My songs from heard albums 1541\n",
      "\n",
      "                   song_uri               album_uri\n",
      "5   649o53ULWYN1y7V2OI5kgo  6blMxezujKgPe8HjHNveuG\n",
      "10  65ds47DOh963oroiiBChZ9  4zn2Kj85Hew0USyxc4TJEX\n",
      "12  3D8dwH690MXQRhtIZTSS9c  4zn2Kj85Hew0USyxc4TJEX\n",
      "13  2r8MLH3Zwro67ElDDqth1r  4zn2Kj85Hew0USyxc4TJEX\n",
      "32  4CxFN5zON70B3VOPBYbd6P  16mjtcKPxpQ4ajFHmJ0hJC\n"
     ]
    }
   ],
   "source": [
    "print('My total songs',df_my_songs.shape[0])\n",
    "df_songs_per_album = df_my_songs.groupby('album_uri').count()\n",
    "\n",
    "print('My total albums',df_songs_per_album.shape[0])\n",
    "\n",
    "df_albums_heard = df_songs_per_album[df_songs_per_album.song_uri > 1]\n",
    "albums_heard = df_albums_heard.index.values\n",
    "print('My heard albums', df_albums_heard.shape[0])\n",
    "\n",
    "df_albums_unheard = df_songs_per_album[df_songs_per_album.song_uri == 1]\n",
    "print('My unheard albums / songs from unheard albums', df_albums_unheard.shape[0])\n",
    "\n",
    "df_saved_ids = df_my_songs[df_my_songs.album_uri.isin(albums_heard)]\n",
    "print('My songs from heard albums', df_saved_ids.shape[0])\n",
    "print('\\n', df_saved_ids.head())\n",
    "\n",
    "savedSongIds = set(df_saved_ids.song_uri)"
   ]
  },
  {
   "cell_type": "markdown",
   "metadata": {},
   "source": [
    "# Get uris of all Songs from Albums I listen to"
   ]
  },
  {
   "cell_type": "code",
   "execution_count": 14,
   "metadata": {},
   "outputs": [
    {
     "name": "stderr",
     "output_type": "stream",
     "text": [
      "100% |########################################################################|\n"
     ]
    }
   ],
   "source": [
    "albumSongIds = set()\n",
    "from progressbar import ProgressBar\n",
    "pbar = ProgressBar()\n",
    "\n",
    "counter = 0;\n",
    "for albumId in pbar(albums_heard):\n",
    "    nextLimit = 50\n",
    "    nextOffset = 0\n",
    "    albumInfo = sp.album_tracks(albumId, limit=nextLimit)\n",
    "    for item in albumInfo['items']:\n",
    "        albumSongIds.add(item['id'])\n",
    "    nextOffset += nextLimit\n",
    "    while (albumInfo['next'] != None): \n",
    "        albumInfo = sp.album_tracks(albumId, limit=nextLimit, offset=nextOffset)\n",
    "        for item in albumInfo['items']:\n",
    "            albumSongIds.add(item['id'])\n",
    "        nextOffset += nextLimit\n",
    "    counter += 1"
   ]
  },
  {
   "cell_type": "code",
   "execution_count": 15,
   "metadata": {},
   "outputs": [
    {
     "name": "stdout",
     "output_type": "stream",
     "text": [
      "3797\n",
      "1541\n",
      "2256\n"
     ]
    }
   ],
   "source": [
    "print(len(albumSongIds))\n",
    "print(len(savedSongIds))\n",
    "unsavedSongIds = albumSongIds.difference(savedSongIds)\n",
    "print(len(unsavedSongIds))"
   ]
  },
  {
   "cell_type": "markdown",
   "metadata": {},
   "source": [
    "# Get Audio Features for Saved Songs"
   ]
  },
  {
   "cell_type": "code",
   "execution_count": 16,
   "metadata": {},
   "outputs": [],
   "source": [
    "savedSongIds = list(savedSongIds)\n",
    "\n",
    "exampleObj = sp.audio_features(savedSongIds[0])\n",
    "df_saved_songs = pd.DataFrame(exampleObj)\n",
    "\n",
    "startNdx = 1\n",
    "endNdx = 51\n",
    "nextList = savedSongIds[startNdx:endNdx]\n",
    "\n",
    "while (endNdx < len(savedSongIds)):\n",
    "    audio_features = sp.audio_features(nextList)\n",
    "    df_saved_songs = df_saved_songs.append(audio_features, ignore_index=True)\n",
    "    startNdx = endNdx\n",
    "    endNdx += 50\n",
    "    nextList = savedSongIds[startNdx:endNdx]\n",
    "\n",
    "nextList = savedSongIds[startNdx:]\n",
    "audio_features = sp.audio_features(nextList)\n",
    "df_saved_songs = df_saved_songs.append(audio_features, ignore_index=True)"
   ]
  },
  {
   "cell_type": "code",
   "execution_count": 17,
   "metadata": {},
   "outputs": [
    {
     "name": "stdout",
     "output_type": "stream",
     "text": [
      "(1541, 18)\n",
      "   danceability  energy  key  loudness  mode  speechiness  acousticness  \\\n",
      "0         0.695   0.807    9    -5.123     1       0.0346        0.0121   \n",
      "1         0.510   0.533    7    -6.194     1       0.3590        0.1940   \n",
      "2         0.764   0.475    0   -12.618     1       0.1140        0.3450   \n",
      "3         0.615   0.800    7    -7.423     1       0.0571        0.0684   \n",
      "4         0.656   0.804    8    -5.191     0       0.3630        0.1730   \n",
      "\n",
      "   instrumentalness  liveness  valence    tempo                      id  \\\n",
      "0               0.0     0.266    0.400   91.947  4V8uu21mnpyg7BElNNJdPs   \n",
      "1               0.0     0.117    0.262   88.154  7fheaybAcABeiuYU6VgDrQ   \n",
      "2               0.0     0.140    0.340  129.974  0l4EfZzVD0LyJhibHIIVxo   \n",
      "3               0.0     0.106    0.309  134.052  6EAE96fgYkea6qZ3pXigNG   \n",
      "4               0.0     0.837    0.314  125.882  2WWruw7ul9N7eqoHELyMc2   \n",
      "\n",
      "   time_signature  label  \n",
      "0               4  saved  \n",
      "1               4  saved  \n",
      "2               4  saved  \n",
      "3               4  saved  \n",
      "4               4  saved  \n"
     ]
    }
   ],
   "source": [
    "print(df_saved_songs.shape)\n",
    "df_saved_songs = df_saved_songs.drop(columns=['type', 'uri', 'track_href', 'analysis_url', 'duration_ms'])\n",
    "df_saved_songs['label'] = 'saved'\n",
    "print(df_saved_songs.head())"
   ]
  },
  {
   "cell_type": "markdown",
   "metadata": {},
   "source": [
    "# Get Audio Features for Unsaved Songs"
   ]
  },
  {
   "cell_type": "code",
   "execution_count": 18,
   "metadata": {},
   "outputs": [],
   "source": [
    "unsavedSongIds = list(unsavedSongIds)\n",
    "\n",
    "exampleObj = sp.audio_features(unsavedSongIds[0])\n",
    "df_unsaved_songs = pd.DataFrame(exampleObj)\n",
    "\n",
    "startNdx = 1\n",
    "endNdx = 51\n",
    "nextList = unsavedSongIds[startNdx:endNdx]\n",
    "\n",
    "while (endNdx < len(unsavedSongIds)):\n",
    "    audio_features = sp.audio_features(nextList)\n",
    "    df_unsaved_songs = df_unsaved_songs.append(audio_features, ignore_index=True)\n",
    "    startNdx = endNdx\n",
    "    endNdx += 50\n",
    "    nextList = unsavedSongIds[startNdx:endNdx]\n",
    "\n",
    "nextList = unsavedSongIds[startNdx:]\n",
    "audio_features = sp.audio_features(nextList)\n",
    "df_unsaved_songs = df_unsaved_songs.append(audio_features, ignore_index=True)"
   ]
  },
  {
   "cell_type": "code",
   "execution_count": 19,
   "metadata": {},
   "outputs": [
    {
     "name": "stdout",
     "output_type": "stream",
     "text": [
      "(2256, 18)\n",
      "   danceability  energy  key  loudness  mode  speechiness  acousticness  \\\n",
      "0         0.332   0.216    2    -9.683     0       0.0284         0.984   \n",
      "1         0.306   0.635    0    -3.860     1       0.0313         0.449   \n",
      "2         0.388   0.889    3    -5.281     1       0.1160         0.307   \n",
      "3         0.676   0.618    2    -7.495     0       0.1960         0.689   \n",
      "4         0.573   0.344    9   -10.910     1       0.0361         0.811   \n",
      "\n",
      "   instrumentalness  liveness  valence    tempo                      id  \\\n",
      "0          0.005610     0.170   0.2690   90.960  7uWHlTIGoJnSSlAvAcr9iW   \n",
      "1          0.000004     0.287   0.0847  139.969  5OsKqfRR6OuGGaMcKPG1ti   \n",
      "2          0.004860     0.142   0.3270  159.960  6JsePoT1VWserj2YIUu0hE   \n",
      "3          0.008210     0.127   0.4660   79.799  0h6sfKXFb641F2E13rY4f2   \n",
      "4          0.000000     0.130   0.3770  157.783  3ICdPHubhqTJ4Lm9NEb2W3   \n",
      "\n",
      "   time_signature    label  \n",
      "0               4  unsaved  \n",
      "1               4  unsaved  \n",
      "2               4  unsaved  \n",
      "3               4  unsaved  \n",
      "4               3  unsaved  \n"
     ]
    }
   ],
   "source": [
    "print(df_unsaved_songs.shape)\n",
    "df_unsaved_songs = df_unsaved_songs.drop(columns=['type', 'uri', 'track_href', 'analysis_url', 'duration_ms'])\n",
    "df_unsaved_songs['label'] = 'unsaved'\n",
    "print(df_unsaved_songs.head())"
   ]
  },
  {
   "cell_type": "markdown",
   "metadata": {},
   "source": [
    "# Combine Into Dataset"
   ]
  },
  {
   "cell_type": "code",
   "execution_count": 20,
   "metadata": {},
   "outputs": [
    {
     "name": "stdout",
     "output_type": "stream",
     "text": [
      "      danceability  energy  key  loudness  mode  speechiness  acousticness  \\\n",
      "0            0.695   0.807    9    -5.123     1       0.0346        0.0121   \n",
      "1            0.510   0.533    7    -6.194     1       0.3590        0.1940   \n",
      "2            0.764   0.475    0   -12.618     1       0.1140        0.3450   \n",
      "3            0.615   0.800    7    -7.423     1       0.0571        0.0684   \n",
      "4            0.656   0.804    8    -5.191     0       0.3630        0.1730   \n",
      "...            ...     ...  ...       ...   ...          ...           ...   \n",
      "2251         0.444   0.470    0    -6.897     0       0.0611        0.6170   \n",
      "2252         0.569   0.857    7    -5.571     1       0.0337        0.0101   \n",
      "2253         0.483   0.404    2    -8.498     1       0.0319        0.7630   \n",
      "2254         0.626   0.827    2    -4.277     1       0.0447        0.4230   \n",
      "2255         0.465   0.269    0   -12.140     1       0.0311        0.7910   \n",
      "\n",
      "      instrumentalness  liveness  valence    tempo                      id  \\\n",
      "0             0.000000    0.2660   0.4000   91.947  4V8uu21mnpyg7BElNNJdPs   \n",
      "1             0.000000    0.1170   0.2620   88.154  7fheaybAcABeiuYU6VgDrQ   \n",
      "2             0.000000    0.1400   0.3400  129.974  0l4EfZzVD0LyJhibHIIVxo   \n",
      "3             0.000000    0.1060   0.3090  134.052  6EAE96fgYkea6qZ3pXigNG   \n",
      "4             0.000000    0.8370   0.3140  125.882  2WWruw7ul9N7eqoHELyMc2   \n",
      "...                ...       ...      ...      ...                     ...   \n",
      "2251          0.000000    0.0861   0.1640   89.945  0FV5UJ3aGray3oeNBpJ8oc   \n",
      "2252          0.014500    0.1410   0.2820  104.981  1zS85RlXiRuTiWpDIOhICA   \n",
      "2253          0.119000    0.0759   0.0364  108.555  5HrzPdUDfXT1njQCnJK1ww   \n",
      "2254          0.000077    0.1500   0.9600   86.580  6QXSnJrzhL07EdB8zo1f7L   \n",
      "2255          0.000008    0.1390   0.1840  131.391  5F55SiWwEEytk6vsQXHxQW   \n",
      "\n",
      "      time_signature    label  \n",
      "0                  4    saved  \n",
      "1                  4    saved  \n",
      "2                  4    saved  \n",
      "3                  4    saved  \n",
      "4                  4    saved  \n",
      "...              ...      ...  \n",
      "2251               4  unsaved  \n",
      "2252               4  unsaved  \n",
      "2253               4  unsaved  \n",
      "2254               4  unsaved  \n",
      "2255               3  unsaved  \n",
      "\n",
      "[3797 rows x 14 columns]\n"
     ]
    }
   ],
   "source": [
    "df = pd.concat([df_saved_songs, df_unsaved_songs])\n",
    "print(df)\n",
    "df.to_csv('new_dataset.csv', index=False)"
   ]
  },
  {
   "cell_type": "code",
   "execution_count": null,
   "metadata": {},
   "outputs": [],
   "source": []
  }
 ],
 "metadata": {
  "kernelspec": {
   "display_name": "Python 3",
   "language": "python",
   "name": "python3"
  },
  "language_info": {
   "codemirror_mode": {
    "name": "ipython",
    "version": 3
   },
   "file_extension": ".py",
   "mimetype": "text/x-python",
   "name": "python",
   "nbconvert_exporter": "python",
   "pygments_lexer": "ipython3",
   "version": "3.7.4"
  }
 },
 "nbformat": 4,
 "nbformat_minor": 4
}
